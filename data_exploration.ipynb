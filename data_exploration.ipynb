import numpy as np, seaborn as sns, matplotlib.pyplot as plt, pandas as pd, gzip, math, gdown, scipy.optimize
from sklearn.linear_model import LinearRegression
from sklearn. metrics import r2_score, mean_squared_error, classification_report
from sklearn.preprocessing import PolynomialFeatures
from sklearn.model_selection import train_test_split
from collections import defaultdict
from sklearn import svm
### Loading Data from JSON (DO NOT RUN)
Note: Do NOT run this section as this section is how we produced "raw_data.csv". The csv can directly be downloaded from Google Drive as we have difficulties uploading large files.
def readGz(path):
    for l in gzip.open(path, 'rt'):
        yield eval(l)
        
def readJSON(path):
    f = gzip.open(path, 'rt')
    f.readline()
    for l in f:
        d = eval(l)
        if 'review/overall' not in l:
            continue
        br_id, ABV, style = d['beer/beerId'], d['beer/ABV'], d['beer/style']
        aprs, aroma, palate, taste = float(d['review/appearance'].split('/')[0]), float(d['review/aroma'].split('/')[0]), float(d['review/palate'].split('/')[0]), float(d['review/taste'].split('/')[0])
        rating = float(d['review/overall'].split('/')[0])
        yield br_id, ABV, style, aprs, aroma, palate, taste, rating
        

dataset = []
for l in readJSON("ratebeer.json.gz"):
        dataset.append(l)
        
print(dataset[0])
df = pd.DataFrame(dataset)
df.columns = ["Beer ID", "ABV","Style","Apperance","Aroma","Palate","Taste","Overall"]
df.head()
df.shape
# save data
df.to_csv('raw_data.csv', index = False)
### Data Preprocessing and Exploration
url = 'https://drive.google.com/uc?id=1YE64oUNrTFDZcBJ_lK8mXtY0qImjjwyQ'
output = 'raw_data.csv'

gdown.download(url, output, quiet=False)
df = pd.read_csv(output)
df.head()
df_num = df.drop(columns = ["Style", "Beer ID"])
df_num = df_num.apply(pd.to_numeric, errors = 'coerce')
df_num = df_num.dropna()
df_num.shape
df_num.to_csv('cleaned_numeric_data.csv', index = False)
sns.pairplot(df_num)
sns.heatmap(df_num.corr(), vmin = -1, vmax = 1, center = 0, annot= True, cmap = 'RdBu')
