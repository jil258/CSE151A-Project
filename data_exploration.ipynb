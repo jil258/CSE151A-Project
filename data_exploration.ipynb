{
 "cells": [
  {
   "cell_type": "code",
   "execution_count": 2,
   "metadata": {},
   "outputs": [],
   "source": [
    "import numpy as np\n",
    "import pandas as pd"
   ]
  },
  {
   "cell_type": "code",
   "execution_count": 4,
   "metadata": {},
   "outputs": [
    {
     "name": "stderr",
     "output_type": "stream",
     "text": [
      "Downloading...\n",
      "From (original): https://drive.google.com/uc?id=1YE64oUNrTFDZcBJ_lK8mXtY0qImjjwyQ\n",
      "From (redirected): https://drive.google.com/uc?id=1YE64oUNrTFDZcBJ_lK8mXtY0qImjjwyQ&confirm=t&uuid=85f4f8ef-9584-4f07-948a-fcb68e7611fd\n",
      "To: /Users/lijianpeng/repos/CSE151A-Project/raw_data.csv\n",
      "100%|██████████| 135M/135M [00:09<00:00, 13.8MB/s] \n",
      "/var/folders/90/9f8yk06x5m5cqysc4rrbrs_c0000gn/T/ipykernel_57165/382772602.py:8: DtypeWarning: Columns (0) have mixed types. Specify dtype option on import or set low_memory=False.\n",
      "  df = pd.read_csv(output)\n"
     ]
    },
    {
     "data": {
      "text/html": [
       "<div>\n",
       "<style scoped>\n",
       "    .dataframe tbody tr th:only-of-type {\n",
       "        vertical-align: middle;\n",
       "    }\n",
       "\n",
       "    .dataframe tbody tr th {\n",
       "        vertical-align: top;\n",
       "    }\n",
       "\n",
       "    .dataframe thead th {\n",
       "        text-align: right;\n",
       "    }\n",
       "</style>\n",
       "<table border=\"1\" class=\"dataframe\">\n",
       "  <thead>\n",
       "    <tr style=\"text-align: right;\">\n",
       "      <th></th>\n",
       "      <th>Beer ID</th>\n",
       "      <th>ABV</th>\n",
       "      <th>Style</th>\n",
       "      <th>Apperance</th>\n",
       "      <th>Aroma</th>\n",
       "      <th>Palate</th>\n",
       "      <th>Taste</th>\n",
       "      <th>Overall</th>\n",
       "    </tr>\n",
       "  </thead>\n",
       "  <tbody>\n",
       "    <tr>\n",
       "      <th>0</th>\n",
       "      <td>63836</td>\n",
       "      <td>5.4</td>\n",
       "      <td>India Pale Ale &amp;#40;IPA&amp;#41;</td>\n",
       "      <td>4.0</td>\n",
       "      <td>6.0</td>\n",
       "      <td>4.0</td>\n",
       "      <td>7.0</td>\n",
       "      <td>13.0</td>\n",
       "    </tr>\n",
       "    <tr>\n",
       "      <th>1</th>\n",
       "      <td>71716</td>\n",
       "      <td>5</td>\n",
       "      <td>Bohemian Pilsener</td>\n",
       "      <td>4.0</td>\n",
       "      <td>5.0</td>\n",
       "      <td>3.0</td>\n",
       "      <td>6.0</td>\n",
       "      <td>14.0</td>\n",
       "    </tr>\n",
       "    <tr>\n",
       "      <th>2</th>\n",
       "      <td>64125</td>\n",
       "      <td>5.4</td>\n",
       "      <td>Klsch</td>\n",
       "      <td>2.0</td>\n",
       "      <td>4.0</td>\n",
       "      <td>2.0</td>\n",
       "      <td>4.0</td>\n",
       "      <td>8.0</td>\n",
       "    </tr>\n",
       "    <tr>\n",
       "      <th>3</th>\n",
       "      <td>64125</td>\n",
       "      <td>5.4</td>\n",
       "      <td>Klsch</td>\n",
       "      <td>2.0</td>\n",
       "      <td>4.0</td>\n",
       "      <td>2.0</td>\n",
       "      <td>4.0</td>\n",
       "      <td>8.0</td>\n",
       "    </tr>\n",
       "    <tr>\n",
       "      <th>4</th>\n",
       "      <td>31544</td>\n",
       "      <td>-</td>\n",
       "      <td>Sweet Stout</td>\n",
       "      <td>5.0</td>\n",
       "      <td>8.0</td>\n",
       "      <td>4.0</td>\n",
       "      <td>7.0</td>\n",
       "      <td>16.0</td>\n",
       "    </tr>\n",
       "  </tbody>\n",
       "</table>\n",
       "</div>"
      ],
      "text/plain": [
       "  Beer ID  ABV                         Style  Apperance  Aroma  Palate  Taste  \\\n",
       "0   63836  5.4  India Pale Ale &#40;IPA&#41;        4.0    6.0     4.0    7.0   \n",
       "1   71716    5             Bohemian Pilsener        4.0    5.0     3.0    6.0   \n",
       "2   64125  5.4                         Klsch        2.0    4.0     2.0    4.0   \n",
       "3   64125  5.4                         Klsch        2.0    4.0     2.0    4.0   \n",
       "4   31544    -                   Sweet Stout        5.0    8.0     4.0    7.0   \n",
       "\n",
       "   Overall  \n",
       "0     13.0  \n",
       "1     14.0  \n",
       "2      8.0  \n",
       "3      8.0  \n",
       "4     16.0  "
      ]
     },
     "execution_count": 4,
     "metadata": {},
     "output_type": "execute_result"
    }
   ],
   "source": [
    "# gdown for reading google drive file\n",
    "import gdown #pip install gdown if haven't do so\n",
    "\n",
    "url = 'https://drive.google.com/uc?id=1YE64oUNrTFDZcBJ_lK8mXtY0qImjjwyQ'\n",
    "output = 'raw_data.csv'\n",
    "\n",
    "gdown.download(url, output, quiet=False)\n",
    "df = pd.read_csv(output)\n",
    "df.head()"
   ]
  },
  {
   "cell_type": "code",
   "execution_count": null,
   "metadata": {},
   "outputs": [],
   "source": []
  }
 ],
 "metadata": {
  "kernelspec": {
   "display_name": "Python 3",
   "language": "python",
   "name": "python3"
  },
  "language_info": {
   "codemirror_mode": {
    "name": "ipython",
    "version": 3
   },
   "file_extension": ".py",
   "mimetype": "text/x-python",
   "name": "python",
   "nbconvert_exporter": "python",
   "pygments_lexer": "ipython3",
   "version": "3.10.1"
  }
 },
 "nbformat": 4,
 "nbformat_minor": 2
}
